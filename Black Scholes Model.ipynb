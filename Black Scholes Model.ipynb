{
 "cells": [
  {
   "cell_type": "markdown",
   "metadata": {},
   "source": [
    "# Black Scholes Model"
   ]
  },
  {
   "cell_type": "markdown",
   "metadata": {},
   "source": [
    "The Black Scholes model is an option precification model widely used in the financial market. Its fundamental equation is\n",
    "\n",
    "\\begin{equation}\n",
    "c = S\\Phi(d_1) - Xe^{-rT}\\Phi(d_2),\n",
    "\\end{equation}\n",
    "that gives us the price of a call option (c) with a stock strike price $X$ and spot price $S$ with the maturity time $T$ using a risk-free annual logarithm return rate $r$ and volatility $\\sigma$ (standard deviation of the annual returns of the stock). The volatility $\\sigma$ is encapsulated in the variables $d_1$ and $d_2$, that are plugged into the normal cumulative density function (cdf). $d_1$ is given by\n",
    "\n",
    "$$d_1 = \\frac{ln(S/X) + (r+\\sigma^2/2)T}{\\sigma\\sqrt{T}}$$\n",
    "\n",
    "and $d_2$\n",
    "\n",
    "$$d_2 = \\frac{ln(S/X) + (r-\\sigma^2/2)T}{\\sigma\\sqrt{T}} = \\frac{ln(S/X) + (r-\\sigma^2/2)T + \\sigma^2T - \\sigma^T}{\\sigma\\sqrt{T}} = \\frac{ln(S/X) + (r+\\sigma^2/2)T - \\sigma^T}{\\sigma\\sqrt{T}}$$\n",
    "\n",
    "$$d_2 = d_1 - \\sigma\\sqrt{T}$$.\n",
    "\n",
    "## Example: calculate the call price with the following parameters\n",
    "\n",
    "* Strike price $X$ = R$ 100,00\n",
    "\n",
    "* Spot price $S$ = R$ 100,00\n",
    "\n",
    "* Maturity time $T$ = 90 days\n",
    "\n",
    "* Risk-free annual return rate $R$ = 6%\n",
    "\n",
    "* Volatility $\\sigma$ = 50%\n"
   ]
  },
  {
   "cell_type": "code",
   "execution_count": 23,
   "metadata": {},
   "outputs": [
    {
     "data": {
      "text/plain": [
       "10.538743762289478"
      ]
     },
     "execution_count": 23,
     "metadata": {},
     "output_type": "execute_result"
    }
   ],
   "source": [
    "# import python modules\n",
    "import numpy as np\n",
    "from scipy.stats import norm\n",
    "\n",
    "def call_price(X, S, T, R, std):\n",
    "    r = np.log(1+R)  # annual logarithm return rate\n",
    "    d1 = ( np.log(S/X) + (r + 0.5*std**2)*T ) / ( std*np.sqrt(T) )\n",
    "    d2 = d1 - std*np.sqrt(T) \n",
    "    \n",
    "    c = S*norm.cdf(d1) - X*np.exp(-r*T)*norm.cdf(d2)\n",
    "    return c\n",
    "\n",
    "# set up variables\n",
    "X = 100          # strike price\n",
    "S = 100          # spot price\n",
    "T = 90/365       # maturity time converted to year scale\n",
    "R = 0.06         # annual return rate\n",
    "std = 0.50       # volatility\n",
    "\n",
    "# print the option price: R$ 10,54\n",
    "call_price(X,S,T,R,std)"
   ]
  },
  {
   "cell_type": "code",
   "execution_count": null,
   "metadata": {},
   "outputs": [],
   "source": []
  }
 ],
 "metadata": {
  "kernelspec": {
   "display_name": "Python 3",
   "language": "python",
   "name": "python3"
  },
  "language_info": {
   "codemirror_mode": {
    "name": "ipython",
    "version": 3
   },
   "file_extension": ".py",
   "mimetype": "text/x-python",
   "name": "python",
   "nbconvert_exporter": "python",
   "pygments_lexer": "ipython3",
   "version": "3.6.4"
  }
 },
 "nbformat": 4,
 "nbformat_minor": 2
}
