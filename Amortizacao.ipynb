{
 "cells": [
  {
   "cell_type": "markdown",
   "metadata": {},
   "source": [
    "# Tabela Price\n",
    "\n",
    "**Tabela Price** ou **sistema francês de amortização** é um método usado em amortização de empréstimos em que o valor das prestações (parcelas) é constante.\n",
    "\n",
    "No sistema da tabela Price o combinado é que se deve pagar uma dívida $\\$_0$ em $n$ prestação idênticas de valor $x$ com uma taxa de juros $R_{anual}$ anual. O termo $1 + R_{anual}$ é bastante frequente, por isso lançamos mão da váriavel auxiliar $Z_{anual} = 1 + R_{anual}$. Caso as prestações sejam pagas mensalmente, precisamos de $Z_{mensal}$, dado por $Z_{mensal} = Z_{anual}^{\\frac{1}{12}} = (1+R_{anual})^{\\frac{1}{12}}$.\n",
    "\n",
    "Geralmente, o que se sabe é o valor que se quer financiar, $\\$_0$; a quantidade $n$ de parcelas e a taxa de juros mensal, $R_{mensal} = R_m \\rightarrow Z_m = 1 + R_m$. \n",
    "\n",
    "Com essas informações, podemos calcular as seguintes quantidades para cada parcela:\n",
    "\n",
    "* Prestação:   $x = \\frac{(Z_m - 1)Z_m^n}{Z_m^n-1}\\$_0$\n",
    "\n",
    "\n",
    "* Juros: $\\$_{juros} = \\frac{(Z_m-1)(Z_m^n-Z_m^{k-1})}{(Z_m^n-1)}\\$_0$, juros pago na $k-ésima$ parcela\n",
    "\n",
    "\n",
    "* Amortização: $\\$_{amortização} = \\frac{(Z_m-1)Z_m^{k-1}}{(Z_m^n-1)}\\$_0$\n",
    "\n",
    "\n",
    "* Dívida: $D_k = \\frac{(Z_m^n-Z_m^k)}{(Z_m^n-1)}\\$_0$"
   ]
  },
  {
   "cell_type": "code",
   "execution_count": 105,
   "metadata": {},
   "outputs": [],
   "source": [
    "import numpy as np\n",
    "import pandas as pd\n",
    "pd.options.display.float_format = '{:.2f}'.format\n",
    "import matplotlib.pyplot as plt\n",
    "\n",
    "pv = 70000       # Valor emprestado ou financiado\n",
    "anos = 30         # Quantidade de anos\n",
    "Ra = 0.10         # Taxa de juros a.a\n",
    "Za = 1 + Ra       \n",
    "\n",
    "n = 12*anos       # Quantidade de meses\n",
    "Zm = Za**(1/12)    "
   ]
  },
  {
   "cell_type": "code",
   "execution_count": 106,
   "metadata": {},
   "outputs": [],
   "source": [
    "# Array com a quantidade de parcelas\n",
    "N = np.arange(n+1)\n",
    "\n",
    "# Array com o valor das parcelas, que deve ser constante\n",
    "x = ((Zm-1)*Zm**n/(Zm**n-1))*pv\n",
    "X = np.zeros(n+1)\n",
    "X = X + x\n",
    "X[0] = 0\n",
    "\n",
    "# Arrays com o valor da dívida, juros e amortização\n",
    "divida = np.zeros(n+1)\n",
    "juros = np.zeros(n+1)\n",
    "amortizacao = np.zeros(n+1)\n",
    "for i in range(n):\n",
    "    k=i+1\n",
    "    divida[k] = (Zm**n-Zm**k)/(Zm**n-1)*pv\n",
    "    juros[k] = (Zm-1)*(Zm**n-Zm**(k-1))/(Zm**n-1)*pv\n",
    "    amortizacao[k] = (Zm-1)*Zm**(k-1) / (Zm**n-1)*pv\n",
    "divida[0] = pv"
   ]
  },
  {
   "cell_type": "code",
   "execution_count": 107,
   "metadata": {},
   "outputs": [
    {
     "data": {
      "text/html": [
       "<div>\n",
       "<style scoped>\n",
       "    .dataframe tbody tr th:only-of-type {\n",
       "        vertical-align: middle;\n",
       "    }\n",
       "\n",
       "    .dataframe tbody tr th {\n",
       "        vertical-align: top;\n",
       "    }\n",
       "\n",
       "    .dataframe thead th {\n",
       "        text-align: right;\n",
       "    }\n",
       "</style>\n",
       "<table border=\"1\" class=\"dataframe\">\n",
       "  <thead>\n",
       "    <tr style=\"text-align: right;\">\n",
       "      <th></th>\n",
       "      <th>Tempo</th>\n",
       "      <th>Prestação</th>\n",
       "      <th>Juros</th>\n",
       "      <th>Amortização</th>\n",
       "      <th>Dívida</th>\n",
       "    </tr>\n",
       "  </thead>\n",
       "  <tbody>\n",
       "    <tr>\n",
       "      <th>0</th>\n",
       "      <td>0</td>\n",
       "      <td>0.00</td>\n",
       "      <td>0.00</td>\n",
       "      <td>0.00</td>\n",
       "      <td>70000.00</td>\n",
       "    </tr>\n",
       "    <tr>\n",
       "      <th>1</th>\n",
       "      <td>1</td>\n",
       "      <td>592.12</td>\n",
       "      <td>558.19</td>\n",
       "      <td>33.93</td>\n",
       "      <td>69966.07</td>\n",
       "    </tr>\n",
       "    <tr>\n",
       "      <th>2</th>\n",
       "      <td>2</td>\n",
       "      <td>592.12</td>\n",
       "      <td>557.92</td>\n",
       "      <td>34.20</td>\n",
       "      <td>69931.86</td>\n",
       "    </tr>\n",
       "    <tr>\n",
       "      <th>3</th>\n",
       "      <td>3</td>\n",
       "      <td>592.12</td>\n",
       "      <td>557.65</td>\n",
       "      <td>34.48</td>\n",
       "      <td>69897.38</td>\n",
       "    </tr>\n",
       "    <tr>\n",
       "      <th>4</th>\n",
       "      <td>4</td>\n",
       "      <td>592.12</td>\n",
       "      <td>557.37</td>\n",
       "      <td>34.75</td>\n",
       "      <td>69862.63</td>\n",
       "    </tr>\n",
       "  </tbody>\n",
       "</table>\n",
       "</div>"
      ],
      "text/plain": [
       "   Tempo  Prestação  Juros  Amortização   Dívida\n",
       "0      0       0.00   0.00         0.00 70000.00\n",
       "1      1     592.12 558.19        33.93 69966.07\n",
       "2      2     592.12 557.92        34.20 69931.86\n",
       "3      3     592.12 557.65        34.48 69897.38\n",
       "4      4     592.12 557.37        34.75 69862.63"
      ]
     },
     "execution_count": 107,
     "metadata": {},
     "output_type": "execute_result"
    }
   ],
   "source": [
    "# Tabela Price\n",
    "price = pd.DataFrame()\n",
    "price['Tempo'] = N\n",
    "price['Prestação'] = X\n",
    "price['Juros'] = juros\n",
    "price['Amortização'] = amortizacao\n",
    "price['Dívida'] = divida\n",
    "price.head()"
   ]
  },
  {
   "cell_type": "code",
   "execution_count": 91,
   "metadata": {},
   "outputs": [
    {
     "data": {
      "text/html": [
       "<div>\n",
       "<style scoped>\n",
       "    .dataframe tbody tr th:only-of-type {\n",
       "        vertical-align: middle;\n",
       "    }\n",
       "\n",
       "    .dataframe tbody tr th {\n",
       "        vertical-align: top;\n",
       "    }\n",
       "\n",
       "    .dataframe thead th {\n",
       "        text-align: right;\n",
       "    }\n",
       "</style>\n",
       "<table border=\"1\" class=\"dataframe\">\n",
       "  <thead>\n",
       "    <tr style=\"text-align: right;\">\n",
       "      <th></th>\n",
       "      <th>Tempo</th>\n",
       "      <th>Prestação</th>\n",
       "      <th>Juros</th>\n",
       "      <th>Amortização</th>\n",
       "      <th>Dívida</th>\n",
       "    </tr>\n",
       "  </thead>\n",
       "  <tbody>\n",
       "    <tr>\n",
       "      <th>356</th>\n",
       "      <td>356</td>\n",
       "      <td>5947.28</td>\n",
       "      <td>336.44</td>\n",
       "      <td>5610.84</td>\n",
       "      <td>23108.40</td>\n",
       "    </tr>\n",
       "    <tr>\n",
       "      <th>357</th>\n",
       "      <td>357</td>\n",
       "      <td>5947.28</td>\n",
       "      <td>270.71</td>\n",
       "      <td>5676.57</td>\n",
       "      <td>17431.83</td>\n",
       "    </tr>\n",
       "    <tr>\n",
       "      <th>358</th>\n",
       "      <td>358</td>\n",
       "      <td>5947.28</td>\n",
       "      <td>204.21</td>\n",
       "      <td>5743.07</td>\n",
       "      <td>11688.76</td>\n",
       "    </tr>\n",
       "    <tr>\n",
       "      <th>359</th>\n",
       "      <td>359</td>\n",
       "      <td>5947.28</td>\n",
       "      <td>136.93</td>\n",
       "      <td>5810.35</td>\n",
       "      <td>5878.42</td>\n",
       "    </tr>\n",
       "    <tr>\n",
       "      <th>360</th>\n",
       "      <td>360</td>\n",
       "      <td>5947.28</td>\n",
       "      <td>68.87</td>\n",
       "      <td>5878.42</td>\n",
       "      <td>0.00</td>\n",
       "    </tr>\n",
       "  </tbody>\n",
       "</table>\n",
       "</div>"
      ],
      "text/plain": [
       "     Tempo  Prestação  Juros  Amortização   Dívida\n",
       "356    356    5947.28 336.44      5610.84 23108.40\n",
       "357    357    5947.28 270.71      5676.57 17431.83\n",
       "358    358    5947.28 204.21      5743.07 11688.76\n",
       "359    359    5947.28 136.93      5810.35  5878.42\n",
       "360    360    5947.28  68.87      5878.42     0.00"
      ]
     },
     "execution_count": 91,
     "metadata": {},
     "output_type": "execute_result"
    }
   ],
   "source": [
    "price.tail()"
   ]
  },
  {
   "cell_type": "markdown",
   "metadata": {},
   "source": [
    "## Evolução da dívida na tabela Price"
   ]
  },
  {
   "cell_type": "code",
   "execution_count": 92,
   "metadata": {},
   "outputs": [
    {
     "data": {
      "image/png": "[encoded data removed]",
      "text/plain": [
       "<matplotlib.figure.Figure at 0x7f3893ddb5c0>"
      ]
     },
     "metadata": {},
     "output_type": "display_data"
    }
   ],
   "source": [
    "plt.title('Tabela Price')\n",
    "plt.plot(price['Tempo'][1:], price['Dívida'][1:], label='Dívida')\n",
    "plt.xlabel('Meses')\n",
    "plt.tick_params(axis='both', direction='in', top='on', right='on', width=1)\n",
    "plt.legend()\n",
    "plt.show()"
   ]
  },
  {
   "cell_type": "code",
   "execution_count": 93,
   "metadata": {},
   "outputs": [
    {
     "data": {
      "image/png": "[encoded data removed]",
      "text/plain": [
       "<matplotlib.figure.Figure at 0x7f3894488780>"
      ]
     },
     "metadata": {},
     "output_type": "display_data"
    }
   ],
   "source": [
    "plt.title('Tabela Price')\n",
    "plt.plot(price['Tempo'][1:], price['Prestação'][1:], label='Prestação')\n",
    "plt.plot(price['Tempo'][1:], price['Amortização'][1:], label='Amortização')\n",
    "plt.plot(price['Tempo'][1:], price['Juros'][1:], label='Juros')\n",
    "plt.xlabel('Meses')\n",
    "plt.tick_params(axis='both', direction='in', top='on', right='on', width=1)\n",
    "plt.legend()\n",
    "plt.show()"
   ]
  },
  {
   "cell_type": "markdown",
   "metadata": {},
   "source": [
    "# Tabela SAC\n",
    "\n",
    "Sistema de Amortização Constante (SAC) é um método usado em amortização de empréstimo em que, diferente do sistema Price, onde a prestação é constante, no SAC, como o próprio nome diz, a amortização da dívida é constante.\n",
    "\n",
    "No SAC o valor da prestação varia, sendo maior no começo do período e tende ao valor da amortização à medida que o tempo passa.\n",
    "\n",
    "* Dívida: $D_k = \\frac{n-k}{n}\\$_0$\n",
    "\n",
    "* Amortização: $\\$_{amortização} = \\frac{\\$_0}{n}$\n",
    "\n",
    "* Juros: $\\$_{juros} = (Z_m-1)D_{k-1} = (Z_m - 1)(n+1-k)\\frac{\\$_0}{n}$\n",
    "\n",
    "* Prestação:   $x = [1+(Z_m-1)(n+1-k)]\\frac{\\$_0}{n}$"
   ]
  },
  {
   "cell_type": "code",
   "execution_count": 94,
   "metadata": {},
   "outputs": [],
   "source": [
    "# Array com o valor das amortizações, que deve ser constante\n",
    "amort = pv/n\n",
    "amortizacao = np.zeros(n+1)\n",
    "amortizacao = amortizacao + amort\n",
    "amortizacao[0] = 0\n",
    "\n",
    "# Arrays com o valor da dívida, juros e prestação\n",
    "divida = np.zeros(n+1)\n",
    "juros = np.zeros(n+1)\n",
    "X = np.zeros(n+1)\n",
    "for i in range(n):\n",
    "    k=i+1\n",
    "    divida[k] = pv*(n-k)/n\n",
    "    juros[k] = (Zm-1)*(n+1-k)*pv/n\n",
    "    X[k] = (1+(Zm-1)*(n+1-k))*pv/n\n",
    "divida[0] = pv"
   ]
  },
  {
   "cell_type": "code",
   "execution_count": 95,
   "metadata": {},
   "outputs": [
    {
     "data": {
      "text/html": [
       "<div>\n",
       "<style scoped>\n",
       "    .dataframe tbody tr th:only-of-type {\n",
       "        vertical-align: middle;\n",
       "    }\n",
       "\n",
       "    .dataframe tbody tr th {\n",
       "        vertical-align: top;\n",
       "    }\n",
       "\n",
       "    .dataframe thead th {\n",
       "        text-align: right;\n",
       "    }\n",
       "</style>\n",
       "<table border=\"1\" class=\"dataframe\">\n",
       "  <thead>\n",
       "    <tr style=\"text-align: right;\">\n",
       "      <th></th>\n",
       "      <th>Tempo</th>\n",
       "      <th>Prestação</th>\n",
       "      <th>Juros</th>\n",
       "      <th>Amortização</th>\n",
       "      <th>Dívida</th>\n",
       "    </tr>\n",
       "  </thead>\n",
       "  <tbody>\n",
       "    <tr>\n",
       "      <th>0</th>\n",
       "      <td>0</td>\n",
       "      <td>0.00</td>\n",
       "      <td>0.00</td>\n",
       "      <td>0.00</td>\n",
       "      <td>500000.00</td>\n",
       "    </tr>\n",
       "    <tr>\n",
       "      <th>1</th>\n",
       "      <td>1</td>\n",
       "      <td>7246.35</td>\n",
       "      <td>5857.46</td>\n",
       "      <td>1388.89</td>\n",
       "      <td>498611.11</td>\n",
       "    </tr>\n",
       "    <tr>\n",
       "      <th>2</th>\n",
       "      <td>2</td>\n",
       "      <td>7230.08</td>\n",
       "      <td>5841.19</td>\n",
       "      <td>1388.89</td>\n",
       "      <td>497222.22</td>\n",
       "    </tr>\n",
       "    <tr>\n",
       "      <th>3</th>\n",
       "      <td>3</td>\n",
       "      <td>7213.81</td>\n",
       "      <td>5824.92</td>\n",
       "      <td>1388.89</td>\n",
       "      <td>495833.33</td>\n",
       "    </tr>\n",
       "    <tr>\n",
       "      <th>4</th>\n",
       "      <td>4</td>\n",
       "      <td>7197.54</td>\n",
       "      <td>5808.65</td>\n",
       "      <td>1388.89</td>\n",
       "      <td>494444.44</td>\n",
       "    </tr>\n",
       "  </tbody>\n",
       "</table>\n",
       "</div>"
      ],
      "text/plain": [
       "   Tempo  Prestação   Juros  Amortização    Dívida\n",
       "0      0       0.00    0.00         0.00 500000.00\n",
       "1      1    7246.35 5857.46      1388.89 498611.11\n",
       "2      2    7230.08 5841.19      1388.89 497222.22\n",
       "3      3    7213.81 5824.92      1388.89 495833.33\n",
       "4      4    7197.54 5808.65      1388.89 494444.44"
      ]
     },
     "execution_count": 95,
     "metadata": {},
     "output_type": "execute_result"
    }
   ],
   "source": [
    "# Tabela SAC\n",
    "sac = pd.DataFrame()\n",
    "sac['Tempo'] = N\n",
    "sac['Prestação'] = X\n",
    "sac['Juros'] = juros\n",
    "sac['Amortização'] = amortizacao\n",
    "sac['Dívida'] = divida\n",
    "sac.head()"
   ]
  },
  {
   "cell_type": "code",
   "execution_count": 96,
   "metadata": {},
   "outputs": [
    {
     "data": {
      "text/html": [
       "<div>\n",
       "<style scoped>\n",
       "    .dataframe tbody tr th:only-of-type {\n",
       "        vertical-align: middle;\n",
       "    }\n",
       "\n",
       "    .dataframe tbody tr th {\n",
       "        vertical-align: top;\n",
       "    }\n",
       "\n",
       "    .dataframe thead th {\n",
       "        text-align: right;\n",
       "    }\n",
       "</style>\n",
       "<table border=\"1\" class=\"dataframe\">\n",
       "  <thead>\n",
       "    <tr style=\"text-align: right;\">\n",
       "      <th></th>\n",
       "      <th>Tempo</th>\n",
       "      <th>Prestação</th>\n",
       "      <th>Juros</th>\n",
       "      <th>Amortização</th>\n",
       "      <th>Dívida</th>\n",
       "    </tr>\n",
       "  </thead>\n",
       "  <tbody>\n",
       "    <tr>\n",
       "      <th>356</th>\n",
       "      <td>356</td>\n",
       "      <td>1470.24</td>\n",
       "      <td>81.35</td>\n",
       "      <td>1388.89</td>\n",
       "      <td>5555.56</td>\n",
       "    </tr>\n",
       "    <tr>\n",
       "      <th>357</th>\n",
       "      <td>357</td>\n",
       "      <td>1453.97</td>\n",
       "      <td>65.08</td>\n",
       "      <td>1388.89</td>\n",
       "      <td>4166.67</td>\n",
       "    </tr>\n",
       "    <tr>\n",
       "      <th>358</th>\n",
       "      <td>358</td>\n",
       "      <td>1437.70</td>\n",
       "      <td>48.81</td>\n",
       "      <td>1388.89</td>\n",
       "      <td>2777.78</td>\n",
       "    </tr>\n",
       "    <tr>\n",
       "      <th>359</th>\n",
       "      <td>359</td>\n",
       "      <td>1421.43</td>\n",
       "      <td>32.54</td>\n",
       "      <td>1388.89</td>\n",
       "      <td>1388.89</td>\n",
       "    </tr>\n",
       "    <tr>\n",
       "      <th>360</th>\n",
       "      <td>360</td>\n",
       "      <td>1405.16</td>\n",
       "      <td>16.27</td>\n",
       "      <td>1388.89</td>\n",
       "      <td>0.00</td>\n",
       "    </tr>\n",
       "  </tbody>\n",
       "</table>\n",
       "</div>"
      ],
      "text/plain": [
       "     Tempo  Prestação  Juros  Amortização  Dívida\n",
       "356    356    1470.24  81.35      1388.89 5555.56\n",
       "357    357    1453.97  65.08      1388.89 4166.67\n",
       "358    358    1437.70  48.81      1388.89 2777.78\n",
       "359    359    1421.43  32.54      1388.89 1388.89\n",
       "360    360    1405.16  16.27      1388.89    0.00"
      ]
     },
     "execution_count": 96,
     "metadata": {},
     "output_type": "execute_result"
    }
   ],
   "source": [
    "sac.tail()"
   ]
  },
  {
   "cell_type": "markdown",
   "metadata": {},
   "source": [
    "## Evolução da dívida na tabela SAC"
   ]
  },
  {
   "cell_type": "code",
   "execution_count": 97,
   "metadata": {},
   "outputs": [
    {
     "data": {
      "image/png": "[encoded data removed]",
      "text/plain": [
       "<matplotlib.figure.Figure at 0x7f38939a0cf8>"
      ]
     },
     "metadata": {},
     "output_type": "display_data"
    }
   ],
   "source": [
    "plt.title('Tabela SAC')\n",
    "plt.plot(sac['Tempo'][1:], sac['Dívida'][1:], label='Dívida')\n",
    "plt.xlabel('Meses')\n",
    "plt.tick_params(axis='both', direction='in', top='on', right='on', width=1)\n",
    "plt.legend()\n",
    "plt.show()"
   ]
  },
  {
   "cell_type": "code",
   "execution_count": 98,
   "metadata": {},
   "outputs": [
    {
     "data": {
      "image/png": "[encoded data removed]",
      "text/plain": [
       "<matplotlib.figure.Figure at 0x7f3893f675f8>"
      ]
     },
     "metadata": {},
     "output_type": "display_data"
    }
   ],
   "source": [
    "plt.title('Tabela SAC')\n",
    "plt.plot(sac['Tempo'][1:], sac['Prestação'][1:], label='Prestação')\n",
    "plt.plot(sac['Tempo'][1:], sac['Amortização'][1:], label='Amortização')\n",
    "plt.plot(sac['Tempo'][1:], sac['Juros'][1:], label='Juros')\n",
    "plt.xlabel('Meses')\n",
    "plt.tick_params(axis='both', direction='in', top='on', right='on', width=1)\n",
    "plt.legend()\n",
    "plt.show()"
   ]
  },
  {
   "cell_type": "markdown",
   "metadata": {},
   "source": [
    "# Comparando evolução das dívidas no sistema Price e SAC"
   ]
  },
  {
   "cell_type": "code",
   "execution_count": 99,
   "metadata": {},
   "outputs": [
    {
     "data": {
      "image/png": "[encoded data removed]",
      "text/plain": [
       "<matplotlib.figure.Figure at 0x7f3893c35a90>"
      ]
     },
     "metadata": {},
     "output_type": "display_data"
    }
   ],
   "source": [
    "plt.title('Dívida')\n",
    "plt.plot(price['Tempo'][1:], price['Dívida'][1:], label='Price')\n",
    "plt.plot(sac['Tempo'][1:], sac['Dívida'][1:], label='SAC')\n",
    "plt.xlabel('Meses')\n",
    "plt.tick_params(axis='both', direction='in', top='on', right='on', width=1)\n",
    "plt.legend()\n",
    "plt.show()"
   ]
  },
  {
   "cell_type": "markdown",
   "metadata": {},
   "source": [
    "# Valor Presente (Present Value)"
   ]
  },
  {
   "cell_type": "code",
   "execution_count": 101,
   "metadata": {},
   "outputs": [
    {
     "name": "stdout",
     "output_type": "stream",
     "text": [
      "VP (Price): R$ 386834\n",
      "VP (SAC):   R$ 403814\n"
     ]
    }
   ],
   "source": [
    "Ra = 0.20  # Valor da taxa Selic em 07/03/2018\n",
    "Zm = (1+Ra)**(1/12)\n",
    "\n",
    "vp_price = price['Prestação'][1]*(Zm**(n)-1)/(Zm**(n)*(Zm-1))\n",
    "\n",
    "ZZ = [1/Zm**i for i in range(1,361)]\n",
    "vp_sac = sum(sac['Prestação'][1:]*ZZ)\n",
    "\n",
    "print('VP (Price): R$ %.0f\\nVP (SAC):   R$ %.0f'%(vp_price, vp_sac))"
   ]
  },
  {
   "cell_type": "markdown",
   "metadata": {},
   "source": [
    "*O que significam esses números acima? *\n",
    "\n",
    "*Que tipo de informação eu obtenho sabendo que o Valor Presente, pelo sistema Price é R$ 355,579?*"
   ]
  },
  {
   "cell_type": "code",
   "execution_count": 108,
   "metadata": {},
   "outputs": [
    {
     "name": "stdout",
     "output_type": "stream",
     "text": [
      "Total pago na tabela SAC:   R$ 1557271\n",
      "Total pago na tabela Price: R$ 213164\n"
     ]
    }
   ],
   "source": [
    "print(\"Total pago na tabela SAC:   R$ %.0f\" %(sum(sac['Prestação'])))\n",
    "print(\"Total pago na tabela Price: R$ %.0f\" %(sum(price['Prestação'])))"
   ]
  },
  {
   "cell_type": "markdown",
   "metadata": {},
   "source": [
    "*Obs: No sistema SAC paga-se menos no total. Isso se deve ao princípio de que o dinheiro no presente vale mais que no futuro. No sistema SAC paga-se parcelas maiores no início do fluxo de pagamento, por isso, menos juros incidem sobre a dívida restante, o que acarreta em um valor total pago menor para o sistema SAC.*"
   ]
  },
  {
   "cell_type": "code",
   "execution_count": 109,
   "metadata": {},
   "outputs": [
    {
     "data": {
      "text/plain": [
       "463005.6314128583"
      ]
     },
     "execution_count": 109,
     "metadata": {},
     "output_type": "execute_result"
    }
   ],
   "source": [
    "70000*(1+0.065)**30"
   ]
  },
  {
   "cell_type": "code",
   "execution_count": 131,
   "metadata": {},
   "outputs": [
    {
     "data": {
      "text/plain": [
       "0.024965690741618474"
      ]
     },
     "execution_count": 131,
     "metadata": {},
     "output_type": "execute_result"
    }
   ],
   "source": [
    "R = 0.003\n",
    "Z = 1+R\n",
    "Z = Z**(1/12)\n",
    "100*(Z-1)"
   ]
  },
  {
   "cell_type": "code",
   "execution_count": 125,
   "metadata": {},
   "outputs": [],
   "source": [
    "ZZ = [Z**n for n in range(1,361)]"
   ]
  },
  {
   "cell_type": "code",
   "execution_count": 126,
   "metadata": {},
   "outputs": [],
   "source": [
    "total=592*sum(ZZ)"
   ]
  },
  {
   "cell_type": "code",
   "execution_count": 127,
   "metadata": {},
   "outputs": [
    {
     "data": {
      "text/plain": [
       "635003.2729153928"
      ]
     },
     "execution_count": 127,
     "metadata": {},
     "output_type": "execute_result"
    }
   ],
   "source": [
    "total"
   ]
  },
  {
   "cell_type": "code",
   "execution_count": 117,
   "metadata": {},
   "outputs": [
    {
     "data": {
      "text/plain": [
       "7104"
      ]
     },
     "execution_count": 117,
     "metadata": {},
     "output_type": "execute_result"
    }
   ],
   "source": [
    "592*12"
   ]
  },
  {
   "cell_type": "code",
   "execution_count": null,
   "metadata": {},
   "outputs": [],
   "source": []
  }
 ],
 "metadata": {
  "kernelspec": {
   "display_name": "Python 3",
   "language": "python",
   "name": "python3"
  },
  "language_info": {
   "codemirror_mode": {
    "name": "ipython",
    "version": 3
   },
   "file_extension": ".py",
   "mimetype": "text/x-python",
   "name": "python",
   "nbconvert_exporter": "python",
   "pygments_lexer": "ipython3",
   "version": "3.6.4"
  }
 },
 "nbformat": 4,
 "nbformat_minor": 2
}
