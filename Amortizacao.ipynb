{
 "cells": [
  {
   "cell_type": "markdown",
   "metadata": {},
   "source": [
    "# Tabela Price\n",
    "\n",
    "**Tabela Price** ou **sistema francês de amortização** é um método usado em amortização de empréstimos em que o valor das prestações (parcelas) é constante.\n",
    "\n",
    "No sistema da tabela Price o combinado é que se deve pagar uma dívida $\\$_0$ em $n$ prestação idênticas de valor $x$ com uma taxa de juros $R_{anual}$ anual. O termo $1 + R_{anual}$ é bastante frequente, por isso lançamos mão da váriavel auxiliar $Z_{anual} = 1 + R_{anual}$. Caso as prestações sejam pagas mensalmente, precisamos de $Z_{mensal}$, dado por $Z_{mensal} = Z_{anual}^{\\frac{1}{12}} = (1+R_{anual})^{\\frac{1}{12}}$.\n",
    "\n",
    "Geralmente, o que se sabe é o valor que se quer financiar, $\\$_0$; a quantidade $n$ de parcelas e a taxa de juros mensal, $R_{mensal} = R_m \\rightarrow Z_m = 1 + R_m$. \n",
    "\n",
    "Com essas informações, podemos calcular as seguintes quantidades para cada parcela:\n",
    "\n",
    "* Prestação:   $x = \\frac{(Z_m - 1)Z_m^n}{Z_m^n-1}\\$_0$\n",
    "\n",
    "\n",
    "* Juros: $\\$_{juros} = \\frac{(Z_m-1)(Z_m^n-Z_m^{k-1})}{(Z_m^n-1)}\\$_0$, juros pago na $k-ésima$ parcela\n",
    "\n",
    "\n",
    "* Amortização: $\\$_{amortização} = \\frac{(Z_m-1)Z_m^{k-1}}{(Z_m^n-1)}\\$_0$\n",
    "\n",
    "\n",
    "* Dívida: $D_k = \\frac{(Z_m^n-Z_m^k)}{(Z_m^n-1)}\\$_0$"
   ]
  },
  {
   "cell_type": "markdown",
   "metadata": {},
   "source": [
    "import numpy as np\n",
    "import pandas as pd\n",
    "pd.options.display.float_format = '{:.2f}'.format\n",
    "import matplotlib.pyplot as plt\n",
    "\n",
    "pv = 500000       # Valor emprestado ou financiado\n",
    "anos = 30         # Quantidade de anos\n",
    "Ra = 0.10         # Taxa de juros a.a\n",
    "Za = 1 + Ra       \n",
    "\n",
    "n = 12*anos       # Quantidade de meses\n",
    "Zm = Za**(1/12)    "
   ]
  },
  {
   "cell_type": "code",
   "execution_count": 4,
   "metadata": {},
   "outputs": [],
   "source": [
    "# Array com a quantidade de parcelas\n",
    "N = np.arange(n+1)\n",
    "\n",
    "# Array com o valor das parcelas, que deve ser constante\n",
    "x = ((Zm-1)*Zm**n/(Zm**n-1))*pv\n",
    "X = np.zeros(n+1)\n",
    "X = X + x\n",
    "X[0] = 0\n",
    "\n",
    "# Arrays com o valor da dívida, juros e amortização\n",
    "divida = np.zeros(n+1)\n",
    "juros = np.zeros(n+1)\n",
    "amortizacao = np.zeros(n+1)\n",
    "for i in range(n):\n",
    "    k=i+1\n",
    "    divida[k] = (Zm**n-Zm**k)/(Zm**n-1)*pv\n",
    "    juros[k] = (Zm-1)*(Zm**n-Zm**(k-1))/(Zm**n-1)*pv\n",
    "    amortizacao[k] = (Zm-1)*Zm**(k-1) / (Zm**n-1)*pv\n",
    "divida[0] = pv"
   ]
  },
  {
   "cell_type": "code",
   "execution_count": 5,
   "metadata": {},
   "outputs": [
    {
     "data": {
      "text/html": [
       "<div>\n",
       "<style scoped>\n",
       "    .dataframe tbody tr th:only-of-type {\n",
       "        vertical-align: middle;\n",
       "    }\n",
       "\n",
       "    .dataframe tbody tr th {\n",
       "        vertical-align: top;\n",
       "    }\n",
       "\n",
       "    .dataframe thead th {\n",
       "        text-align: right;\n",
       "    }\n",
       "</style>\n",
       "<table border=\"1\" class=\"dataframe\">\n",
       "  <thead>\n",
       "    <tr style=\"text-align: right;\">\n",
       "      <th></th>\n",
       "      <th>Tempo</th>\n",
       "      <th>Prestação</th>\n",
       "      <th>Juros</th>\n",
       "      <th>Amortização</th>\n",
       "      <th>Dívida</th>\n",
       "    </tr>\n",
       "  </thead>\n",
       "  <tbody>\n",
       "    <tr>\n",
       "      <th>0</th>\n",
       "      <td>0</td>\n",
       "      <td>0.00</td>\n",
       "      <td>0.00</td>\n",
       "      <td>0.00</td>\n",
       "      <td>500000.00</td>\n",
       "    </tr>\n",
       "    <tr>\n",
       "      <th>1</th>\n",
       "      <td>1</td>\n",
       "      <td>4229.45</td>\n",
       "      <td>3987.07</td>\n",
       "      <td>242.38</td>\n",
       "      <td>499757.62</td>\n",
       "    </tr>\n",
       "    <tr>\n",
       "      <th>2</th>\n",
       "      <td>2</td>\n",
       "      <td>4229.45</td>\n",
       "      <td>3985.14</td>\n",
       "      <td>244.32</td>\n",
       "      <td>499513.30</td>\n",
       "    </tr>\n",
       "    <tr>\n",
       "      <th>3</th>\n",
       "      <td>3</td>\n",
       "      <td>4229.45</td>\n",
       "      <td>3983.19</td>\n",
       "      <td>246.26</td>\n",
       "      <td>499267.03</td>\n",
       "    </tr>\n",
       "    <tr>\n",
       "      <th>4</th>\n",
       "      <td>4</td>\n",
       "      <td>4229.45</td>\n",
       "      <td>3981.23</td>\n",
       "      <td>248.23</td>\n",
       "      <td>499018.81</td>\n",
       "    </tr>\n",
       "  </tbody>\n",
       "</table>\n",
       "</div>"
      ],
      "text/plain": [
       "   Tempo  Prestação   Juros  Amortização    Dívida\n",
       "0      0       0.00    0.00         0.00 500000.00\n",
       "1      1    4229.45 3987.07       242.38 499757.62\n",
       "2      2    4229.45 3985.14       244.32 499513.30\n",
       "3      3    4229.45 3983.19       246.26 499267.03\n",
       "4      4    4229.45 3981.23       248.23 499018.81"
      ]
     },
     "execution_count": 5,
     "metadata": {},
     "output_type": "execute_result"
    }
   ],
   "source": [
    "# Tabela Price\n",
    "price = pd.DataFrame()\n",
    "price['Tempo'] = N\n",
    "price['Prestação'] = X\n",
    "price['Juros'] = juros\n",
    "price['Amortização'] = amortizacao\n",
    "price['Dívida'] = divida\n",
    "price.head()"
   ]
  },
  {
   "cell_type": "code",
   "execution_count": 6,
   "metadata": {},
   "outputs": [
    {
     "data": {
      "text/html": [
       "<div>\n",
       "<style scoped>\n",
       "    .dataframe tbody tr th:only-of-type {\n",
       "        vertical-align: middle;\n",
       "    }\n",
       "\n",
       "    .dataframe tbody tr th {\n",
       "        vertical-align: top;\n",
       "    }\n",
       "\n",
       "    .dataframe thead th {\n",
       "        text-align: right;\n",
       "    }\n",
       "</style>\n",
       "<table border=\"1\" class=\"dataframe\">\n",
       "  <thead>\n",
       "    <tr style=\"text-align: right;\">\n",
       "      <th></th>\n",
       "      <th>Tempo</th>\n",
       "      <th>Prestação</th>\n",
       "      <th>Juros</th>\n",
       "      <th>Amortização</th>\n",
       "      <th>Dívida</th>\n",
       "    </tr>\n",
       "  </thead>\n",
       "  <tbody>\n",
       "    <tr>\n",
       "      <th>356</th>\n",
       "      <td>356</td>\n",
       "      <td>4229.45</td>\n",
       "      <td>164.67</td>\n",
       "      <td>4064.78</td>\n",
       "      <td>16585.86</td>\n",
       "    </tr>\n",
       "    <tr>\n",
       "      <th>357</th>\n",
       "      <td>357</td>\n",
       "      <td>4229.45</td>\n",
       "      <td>132.26</td>\n",
       "      <td>4097.20</td>\n",
       "      <td>12488.66</td>\n",
       "    </tr>\n",
       "    <tr>\n",
       "      <th>358</th>\n",
       "      <td>358</td>\n",
       "      <td>4229.45</td>\n",
       "      <td>99.59</td>\n",
       "      <td>4129.87</td>\n",
       "      <td>8358.79</td>\n",
       "    </tr>\n",
       "    <tr>\n",
       "      <th>359</th>\n",
       "      <td>359</td>\n",
       "      <td>4229.45</td>\n",
       "      <td>66.65</td>\n",
       "      <td>4162.80</td>\n",
       "      <td>4195.99</td>\n",
       "    </tr>\n",
       "    <tr>\n",
       "      <th>360</th>\n",
       "      <td>360</td>\n",
       "      <td>4229.45</td>\n",
       "      <td>33.46</td>\n",
       "      <td>4195.99</td>\n",
       "      <td>0.00</td>\n",
       "    </tr>\n",
       "  </tbody>\n",
       "</table>\n",
       "</div>"
      ],
      "text/plain": [
       "     Tempo  Prestação  Juros  Amortização   Dívida\n",
       "356    356    4229.45 164.67      4064.78 16585.86\n",
       "357    357    4229.45 132.26      4097.20 12488.66\n",
       "358    358    4229.45  99.59      4129.87  8358.79\n",
       "359    359    4229.45  66.65      4162.80  4195.99\n",
       "360    360    4229.45  33.46      4195.99     0.00"
      ]
     },
     "execution_count": 6,
     "metadata": {},
     "output_type": "execute_result"
    }
   ],
   "source": [
    "price.tail()"
   ]
  },
  {
   "cell_type": "markdown",
   "metadata": {},
   "source": [
    "## Evolução da dívida na tabela Price"
   ]
  },
  {
   "cell_type": "code",
   "execution_count": 7,
   "metadata": {},
   "outputs": [
    {
     "data": {
      "image/png": "[encoded data removed]",
      "text/plain": [
       "<matplotlib.figure.Figure at 0x7ff55abf52e8>"
      ]
     },
     "metadata": {},
     "output_type": "display_data"
    }
   ],
   "source": [
    "plt.title('Tabela Price')\n",
    "plt.plot(price['Tempo'][1:], price['Dívida'][1:], label='Dívida')\n",
    "plt.xlabel('Meses')\n",
    "plt.tick_params(axis='both', direction='in', top='on', right='on', width=1)\n",
    "plt.legend()\n",
    "plt.show()"
   ]
  },
  {
   "cell_type": "code",
   "execution_count": 8,
   "metadata": {},
   "outputs": [
    {
     "data": {
      "image/png": "[encoded data removed]",
      "text/plain": [
       "<matplotlib.figure.Figure at 0x7ff55abf5518>"
      ]
     },
     "metadata": {},
     "output_type": "display_data"
    }
   ],
   "source": [
    "plt.title('Tabela Price')\n",
    "plt.plot(price['Tempo'][1:], price['Prestação'][1:], label='Prestação')\n",
    "plt.plot(price['Tempo'][1:], price['Amortização'][1:], label='Amortização')\n",
    "plt.plot(price['Tempo'][1:], price['Juros'][1:], label='Juros')\n",
    "plt.xlabel('Meses')\n",
    "plt.tick_params(axis='both', direction='in', top='on', right='on', width=1)\n",
    "plt.legend()\n",
    "plt.show()"
   ]
  },
  {
   "cell_type": "markdown",
   "metadata": {},
   "source": [
    "# Tabela SAC\n",
    "\n",
    "Sistema de Amortização Constante (SAC) é um método usado em amortização de empréstimo em que, diferente do sistema Price, onde a prestação é constante, no SAC, como o próprio nome diz, a amortização da dívida é constante.\n",
    "\n",
    "No SAC o valor da prestação varia, sendo maior no começo do período e tende ao valor da amortização à medida que o tempo passa.\n",
    "\n",
    "* Dívida: $D_k = \\frac{n-k}{n}\\$_0$\n",
    "\n",
    "* Amortização: $\\$_{amortização} = \\frac{\\$_0}{n}$\n",
    "\n",
    "* Juros: $\\$_{juros} = (Z_m-1)D_{k-1} = (Z_m - 1)(n+1-k)\\frac{\\$_0}{n}$\n",
    "\n",
    "* Prestação:   $x = [1+(Z_m-1)(n+1-k)]\\frac{\\$_0}{n}$"
   ]
  },
  {
   "cell_type": "code",
   "execution_count": 9,
   "metadata": {},
   "outputs": [],
   "source": [
    "# Array com o valor das amortizações, que deve ser constante\n",
    "amort = pv/n\n",
    "amortizacao = np.zeros(n+1)\n",
    "amortizacao = amortizacao + amort\n",
    "amortizacao[0] = 0\n",
    "\n",
    "# Arrays com o valor da dívida, juros e prestação\n",
    "divida = np.zeros(n+1)\n",
    "juros = np.zeros(n+1)\n",
    "X = np.zeros(n+1)\n",
    "for i in range(n):\n",
    "    k=i+1\n",
    "    divida[k] = pv*(n-k)/n\n",
    "    juros[k] = (Zm-1)*(n+1-k)*pv/n\n",
    "    X[k] = (1+(Zm-1)*(n+1-k))*pv/n\n",
    "divida[0] = pv"
   ]
  },
  {
   "cell_type": "code",
   "execution_count": 10,
   "metadata": {},
   "outputs": [
    {
     "data": {
      "text/html": [
       "<div>\n",
       "<style scoped>\n",
       "    .dataframe tbody tr th:only-of-type {\n",
       "        vertical-align: middle;\n",
       "    }\n",
       "\n",
       "    .dataframe tbody tr th {\n",
       "        vertical-align: top;\n",
       "    }\n",
       "\n",
       "    .dataframe thead th {\n",
       "        text-align: right;\n",
       "    }\n",
       "</style>\n",
       "<table border=\"1\" class=\"dataframe\">\n",
       "  <thead>\n",
       "    <tr style=\"text-align: right;\">\n",
       "      <th></th>\n",
       "      <th>Tempo</th>\n",
       "      <th>Prestação</th>\n",
       "      <th>Juros</th>\n",
       "      <th>Amortização</th>\n",
       "      <th>Dívida</th>\n",
       "    </tr>\n",
       "  </thead>\n",
       "  <tbody>\n",
       "    <tr>\n",
       "      <th>0</th>\n",
       "      <td>0</td>\n",
       "      <td>0.00</td>\n",
       "      <td>0.00</td>\n",
       "      <td>0.00</td>\n",
       "      <td>500000.00</td>\n",
       "    </tr>\n",
       "    <tr>\n",
       "      <th>1</th>\n",
       "      <td>1</td>\n",
       "      <td>5375.96</td>\n",
       "      <td>3987.07</td>\n",
       "      <td>1388.89</td>\n",
       "      <td>498611.11</td>\n",
       "    </tr>\n",
       "    <tr>\n",
       "      <th>2</th>\n",
       "      <td>2</td>\n",
       "      <td>5364.88</td>\n",
       "      <td>3976.00</td>\n",
       "      <td>1388.89</td>\n",
       "      <td>497222.22</td>\n",
       "    </tr>\n",
       "    <tr>\n",
       "      <th>3</th>\n",
       "      <td>3</td>\n",
       "      <td>5353.81</td>\n",
       "      <td>3964.92</td>\n",
       "      <td>1388.89</td>\n",
       "      <td>495833.33</td>\n",
       "    </tr>\n",
       "    <tr>\n",
       "      <th>4</th>\n",
       "      <td>4</td>\n",
       "      <td>5342.73</td>\n",
       "      <td>3953.84</td>\n",
       "      <td>1388.89</td>\n",
       "      <td>494444.44</td>\n",
       "    </tr>\n",
       "  </tbody>\n",
       "</table>\n",
       "</div>"
      ],
      "text/plain": [
       "   Tempo  Prestação   Juros  Amortização    Dívida\n",
       "0      0       0.00    0.00         0.00 500000.00\n",
       "1      1    5375.96 3987.07      1388.89 498611.11\n",
       "2      2    5364.88 3976.00      1388.89 497222.22\n",
       "3      3    5353.81 3964.92      1388.89 495833.33\n",
       "4      4    5342.73 3953.84      1388.89 494444.44"
      ]
     },
     "execution_count": 10,
     "metadata": {},
     "output_type": "execute_result"
    }
   ],
   "source": [
    "# Tabela SAC\n",
    "sac = pd.DataFrame()\n",
    "sac['Tempo'] = N\n",
    "sac['Prestação'] = X\n",
    "sac['Juros'] = juros\n",
    "sac['Amortização'] = amortizacao\n",
    "sac['Dívida'] = divida\n",
    "sac.head()"
   ]
  },
  {
   "cell_type": "code",
   "execution_count": 11,
   "metadata": {},
   "outputs": [
    {
     "data": {
      "text/html": [
       "<div>\n",
       "<style scoped>\n",
       "    .dataframe tbody tr th:only-of-type {\n",
       "        vertical-align: middle;\n",
       "    }\n",
       "\n",
       "    .dataframe tbody tr th {\n",
       "        vertical-align: top;\n",
       "    }\n",
       "\n",
       "    .dataframe thead th {\n",
       "        text-align: right;\n",
       "    }\n",
       "</style>\n",
       "<table border=\"1\" class=\"dataframe\">\n",
       "  <thead>\n",
       "    <tr style=\"text-align: right;\">\n",
       "      <th></th>\n",
       "      <th>Tempo</th>\n",
       "      <th>Prestação</th>\n",
       "      <th>Juros</th>\n",
       "      <th>Amortização</th>\n",
       "      <th>Dívida</th>\n",
       "    </tr>\n",
       "  </thead>\n",
       "  <tbody>\n",
       "    <tr>\n",
       "      <th>356</th>\n",
       "      <td>356</td>\n",
       "      <td>1444.26</td>\n",
       "      <td>55.38</td>\n",
       "      <td>1388.89</td>\n",
       "      <td>5555.56</td>\n",
       "    </tr>\n",
       "    <tr>\n",
       "      <th>357</th>\n",
       "      <td>357</td>\n",
       "      <td>1433.19</td>\n",
       "      <td>44.30</td>\n",
       "      <td>1388.89</td>\n",
       "      <td>4166.67</td>\n",
       "    </tr>\n",
       "    <tr>\n",
       "      <th>358</th>\n",
       "      <td>358</td>\n",
       "      <td>1422.11</td>\n",
       "      <td>33.23</td>\n",
       "      <td>1388.89</td>\n",
       "      <td>2777.78</td>\n",
       "    </tr>\n",
       "    <tr>\n",
       "      <th>359</th>\n",
       "      <td>359</td>\n",
       "      <td>1411.04</td>\n",
       "      <td>22.15</td>\n",
       "      <td>1388.89</td>\n",
       "      <td>1388.89</td>\n",
       "    </tr>\n",
       "    <tr>\n",
       "      <th>360</th>\n",
       "      <td>360</td>\n",
       "      <td>1399.96</td>\n",
       "      <td>11.08</td>\n",
       "      <td>1388.89</td>\n",
       "      <td>0.00</td>\n",
       "    </tr>\n",
       "  </tbody>\n",
       "</table>\n",
       "</div>"
      ],
      "text/plain": [
       "     Tempo  Prestação  Juros  Amortização  Dívida\n",
       "356    356    1444.26  55.38      1388.89 5555.56\n",
       "357    357    1433.19  44.30      1388.89 4166.67\n",
       "358    358    1422.11  33.23      1388.89 2777.78\n",
       "359    359    1411.04  22.15      1388.89 1388.89\n",
       "360    360    1399.96  11.08      1388.89    0.00"
      ]
     },
     "execution_count": 11,
     "metadata": {},
     "output_type": "execute_result"
    }
   ],
   "source": [
    "sac.tail()"
   ]
  },
  {
   "cell_type": "markdown",
   "metadata": {},
   "source": [
    "## Evolução da dívida na tabela SAC"
   ]
  },
  {
   "cell_type": "code",
   "execution_count": 12,
   "metadata": {},
   "outputs": [
    {
     "data": {
      "image/png": "[encoded data removed]",
      "text/plain": [
       "<matplotlib.figure.Figure at 0x7ff57c2b59e8>"
      ]
     },
     "metadata": {},
     "output_type": "display_data"
    }
   ],
   "source": [
    "plt.title('Tabela SAC')\n",
    "plt.plot(sac['Tempo'][1:], sac['Dívida'][1:], label='Dívida')\n",
    "plt.xlabel('Meses')\n",
    "plt.tick_params(axis='both', direction='in', top='on', right='on', width=1)\n",
    "plt.legend()\n",
    "plt.show()"
   ]
  },
  {
   "cell_type": "code",
   "execution_count": 13,
   "metadata": {},
   "outputs": [
    {
     "data": {
      "image/png": "[encoded data removed]",
      "text/plain": [
       "<matplotlib.figure.Figure at 0x7ff5532cab00>"
      ]
     },
     "metadata": {},
     "output_type": "display_data"
    }
   ],
   "source": [
    "plt.title('Tabela SAC')\n",
    "plt.plot(sac['Tempo'][1:], sac['Prestação'][1:], label='Prestação')\n",
    "plt.plot(sac['Tempo'][1:], sac['Amortização'][1:], label='Amortização')\n",
    "plt.plot(sac['Tempo'][1:], sac['Juros'][1:], label='Juros')\n",
    "plt.xlabel('Meses')\n",
    "plt.tick_params(axis='both', direction='in', top='on', right='on', width=1)\n",
    "plt.legend()\n",
    "plt.show()"
   ]
  },
  {
   "cell_type": "markdown",
   "metadata": {},
   "source": [
    "# Comparando evolução das dívidas no sistema Price e SAC"
   ]
  },
  {
   "cell_type": "code",
   "execution_count": 14,
   "metadata": {},
   "outputs": [
    {
     "data": {
      "image/png": "[encoded data removed]",
      "text/plain": [
       "<matplotlib.figure.Figure at 0x7ff55330d860>"
      ]
     },
     "metadata": {},
     "output_type": "display_data"
    }
   ],
   "source": [
    "plt.title('Dívida')\n",
    "plt.plot(price['Tempo'][1:], price['Dívida'][1:], label='Price')\n",
    "plt.plot(sac['Tempo'][1:], sac['Dívida'][1:], label='SAC')\n",
    "plt.xlabel('Meses')\n",
    "plt.tick_params(axis='both', direction='in', top='on', right='on', width=1)\n",
    "plt.legend()\n",
    "plt.show()"
   ]
  }
 ],
 "metadata": {
  "kernelspec": {
   "display_name": "Python 3",
   "language": "python",
   "name": "python3"
  },
  "language_info": {
   "codemirror_mode": {
    "name": "ipython",
    "version": 3
   },
   "file_extension": ".py",
   "mimetype": "text/x-python",
   "name": "python",
   "nbconvert_exporter": "python",
   "pygments_lexer": "ipython3",
   "version": "3.6.4"
  }
 },
 "nbformat": 4,
 "nbformat_minor": 2
}
