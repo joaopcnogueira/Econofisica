{
 "cells": [
  {
   "cell_type": "markdown",
   "metadata": {},
   "source": [
    "# Tabela Price\n",
    "\n",
    "**Tabela Price** ou **sistema francês de amortização** é um método usado em amortização de empréstimos em que o valor das prestações (parcelas) é constante.\n",
    "\n",
    "No sistema da tabela Price o combinado é que se deve pagar uma dívida $\\$_0$ em $n$ prestação idênticas de valor $x$ com uma taxa de juros $R_{a}$ anual. O termo $1 + R_{a}$ é bastante frequente, por isso lançamos mão da váriavel auxiliar $Z_{a} = 1 + R_{a}$. Caso as prestações sejam pagas mensalmente, precisamos de $Z_{m}$, dado por $Z_{m} = Z_{a}^{\\frac{1}{12}} = (1+R_{a})^{\\frac{1}{12}}$.\n",
    "\n",
    "Geralmente, o que se sabe é o valor que se quer financiar, $\\$_0$; a quantidade $n$ de parcelas e a taxa de juros mensal, $R_m \\rightarrow Z_m = 1 + R_m$. \n",
    "\n",
    "Com essas informações, podemos calcular as seguintes quantidades para cada parcela:\n",
    "\n",
    "* Prestação:   $x = \\frac{(Z_m - 1)Z_m^n}{Z_m^n-1}\\$_0$\n",
    "\n",
    "\n",
    "* Juros: $\\$_{juros} = \\frac{(Z_m-1)(Z_m^n-Z_m^{k-1})}{(Z_m^n-1)}\\$_0$, juros pago na $k-ésima$ parcela\n",
    "\n",
    "\n",
    "* Amortização: $\\$_{amortização} = \\frac{(Z_m-1)Z_m^{k-1}}{(Z_m^n-1)}\\$_0$\n",
    "\n",
    "\n",
    "* Dívida: $D_k = \\frac{(Z_m^n-Z_m^k)}{(Z_m^n-1)}\\$_0$"
   ]
  },
  {
   "cell_type": "code",
   "execution_count": 1,
   "metadata": {
    "collapsed": true
   },
   "outputs": [],
   "source": [
    "import numpy as np\n",
    "import pandas as pd\n",
    "pd.options.display.float_format = '{:.2f}'.format\n",
    "import matplotlib.pyplot as plt\n",
    "\n",
    "pv = 500000       # Valor emprestado ou financiado\n",
    "anos = 30         # Quantidade de anos\n",
    "Ra = 0.10         # Taxa de juros a.a\n",
    "Za = 1 + Ra       \n",
    "\n",
    "n = 12*anos       # Quantidade de meses\n",
    "Zm = Za**(1/12)    "
   ]
  },
  {
   "cell_type": "markdown",
   "metadata": {},
   "source": [
    "## Calculando prestação, dívida, juros e amortização"
   ]
  },
  {
   "cell_type": "code",
   "execution_count": 2,
   "metadata": {
    "collapsed": true
   },
   "outputs": [],
   "source": [
    "# Array com a quantidade de parcelas\n",
    "N = np.arange(n+1)\n",
    "\n",
    "# Array com o valor das parcelas, que deve ser constante\n",
    "x = ((Zm-1)*Zm**n/(Zm**n-1))*pv\n",
    "X = np.zeros(n+1)\n",
    "X = X + x\n",
    "X[0] = 0\n",
    "\n",
    "# Arrays com o valor da dívida, juros e amortização\n",
    "divida = np.zeros(n+1)\n",
    "juros = np.zeros(n+1)\n",
    "amortizacao = np.zeros(n+1)\n",
    "for i in range(n):\n",
    "    k=i+1\n",
    "    divida[k] = (Zm**n-Zm**k)/(Zm**n-1)*pv\n",
    "    juros[k] = (Zm-1)*(Zm**n-Zm**(k-1))/(Zm**n-1)*pv\n",
    "    amortizacao[k] = (Zm-1)*Zm**(k-1) / (Zm**n-1)*pv\n",
    "divida[0] = pv"
   ]
  },
  {
   "cell_type": "markdown",
   "metadata": {},
   "source": [
    "## Montando a tabela Price"
   ]
  },
  {
   "cell_type": "code",
   "execution_count": 3,
   "metadata": {},
   "outputs": [
    {
     "data": {
      "text/html": [
       "<div>\n",
       "<style scoped>\n",
       "    .dataframe tbody tr th:only-of-type {\n",
       "        vertical-align: middle;\n",
       "    }\n",
       "\n",
       "    .dataframe tbody tr th {\n",
       "        vertical-align: top;\n",
       "    }\n",
       "\n",
       "    .dataframe thead th {\n",
       "        text-align: right;\n",
       "    }\n",
       "</style>\n",
       "<table border=\"1\" class=\"dataframe\">\n",
       "  <thead>\n",
       "    <tr style=\"text-align: right;\">\n",
       "      <th></th>\n",
       "      <th>Tempo</th>\n",
       "      <th>Prestação</th>\n",
       "      <th>Juros</th>\n",
       "      <th>Amortização</th>\n",
       "      <th>Dívida</th>\n",
       "    </tr>\n",
       "  </thead>\n",
       "  <tbody>\n",
       "    <tr>\n",
       "      <th>0</th>\n",
       "      <td>0</td>\n",
       "      <td>0.00</td>\n",
       "      <td>0.00</td>\n",
       "      <td>0.00</td>\n",
       "      <td>500000.00</td>\n",
       "    </tr>\n",
       "    <tr>\n",
       "      <th>1</th>\n",
       "      <td>1</td>\n",
       "      <td>4229.45</td>\n",
       "      <td>3987.07</td>\n",
       "      <td>242.38</td>\n",
       "      <td>499757.62</td>\n",
       "    </tr>\n",
       "    <tr>\n",
       "      <th>2</th>\n",
       "      <td>2</td>\n",
       "      <td>4229.45</td>\n",
       "      <td>3985.14</td>\n",
       "      <td>244.32</td>\n",
       "      <td>499513.30</td>\n",
       "    </tr>\n",
       "    <tr>\n",
       "      <th>3</th>\n",
       "      <td>3</td>\n",
       "      <td>4229.45</td>\n",
       "      <td>3983.19</td>\n",
       "      <td>246.26</td>\n",
       "      <td>499267.03</td>\n",
       "    </tr>\n",
       "    <tr>\n",
       "      <th>4</th>\n",
       "      <td>4</td>\n",
       "      <td>4229.45</td>\n",
       "      <td>3981.23</td>\n",
       "      <td>248.23</td>\n",
       "      <td>499018.81</td>\n",
       "    </tr>\n",
       "  </tbody>\n",
       "</table>\n",
       "</div>"
      ],
      "text/plain": [
       "   Tempo  Prestação   Juros  Amortização    Dívida\n",
       "0      0       0.00    0.00         0.00 500000.00\n",
       "1      1    4229.45 3987.07       242.38 499757.62\n",
       "2      2    4229.45 3985.14       244.32 499513.30\n",
       "3      3    4229.45 3983.19       246.26 499267.03\n",
       "4      4    4229.45 3981.23       248.23 499018.81"
      ]
     },
     "execution_count": 3,
     "metadata": {},
     "output_type": "execute_result"
    }
   ],
   "source": [
    "# Tabela Price\n",
    "price = pd.DataFrame()\n",
    "price['Tempo'] = N\n",
    "price['Prestação'] = X\n",
    "price['Juros'] = juros\n",
    "price['Amortização'] = amortizacao\n",
    "price['Dívida'] = divida\n",
    "price.head()"
   ]
  },
  {
   "cell_type": "code",
   "execution_count": 4,
   "metadata": {},
   "outputs": [
    {
     "data": {
      "text/html": [
       "<div>\n",
       "<style scoped>\n",
       "    .dataframe tbody tr th:only-of-type {\n",
       "        vertical-align: middle;\n",
       "    }\n",
       "\n",
       "    .dataframe tbody tr th {\n",
       "        vertical-align: top;\n",
       "    }\n",
       "\n",
       "    .dataframe thead th {\n",
       "        text-align: right;\n",
       "    }\n",
       "</style>\n",
       "<table border=\"1\" class=\"dataframe\">\n",
       "  <thead>\n",
       "    <tr style=\"text-align: right;\">\n",
       "      <th></th>\n",
       "      <th>Tempo</th>\n",
       "      <th>Prestação</th>\n",
       "      <th>Juros</th>\n",
       "      <th>Amortização</th>\n",
       "      <th>Dívida</th>\n",
       "    </tr>\n",
       "  </thead>\n",
       "  <tbody>\n",
       "    <tr>\n",
       "      <th>356</th>\n",
       "      <td>356</td>\n",
       "      <td>4229.45</td>\n",
       "      <td>164.67</td>\n",
       "      <td>4064.78</td>\n",
       "      <td>16585.86</td>\n",
       "    </tr>\n",
       "    <tr>\n",
       "      <th>357</th>\n",
       "      <td>357</td>\n",
       "      <td>4229.45</td>\n",
       "      <td>132.26</td>\n",
       "      <td>4097.20</td>\n",
       "      <td>12488.66</td>\n",
       "    </tr>\n",
       "    <tr>\n",
       "      <th>358</th>\n",
       "      <td>358</td>\n",
       "      <td>4229.45</td>\n",
       "      <td>99.59</td>\n",
       "      <td>4129.87</td>\n",
       "      <td>8358.79</td>\n",
       "    </tr>\n",
       "    <tr>\n",
       "      <th>359</th>\n",
       "      <td>359</td>\n",
       "      <td>4229.45</td>\n",
       "      <td>66.65</td>\n",
       "      <td>4162.80</td>\n",
       "      <td>4195.99</td>\n",
       "    </tr>\n",
       "    <tr>\n",
       "      <th>360</th>\n",
       "      <td>360</td>\n",
       "      <td>4229.45</td>\n",
       "      <td>33.46</td>\n",
       "      <td>4195.99</td>\n",
       "      <td>0.00</td>\n",
       "    </tr>\n",
       "  </tbody>\n",
       "</table>\n",
       "</div>"
      ],
      "text/plain": [
       "     Tempo  Prestação  Juros  Amortização   Dívida\n",
       "356    356    4229.45 164.67      4064.78 16585.86\n",
       "357    357    4229.45 132.26      4097.20 12488.66\n",
       "358    358    4229.45  99.59      4129.87  8358.79\n",
       "359    359    4229.45  66.65      4162.80  4195.99\n",
       "360    360    4229.45  33.46      4195.99     0.00"
      ]
     },
     "execution_count": 4,
     "metadata": {},
     "output_type": "execute_result"
    }
   ],
   "source": [
    "price.tail()"
   ]
  },
  {
   "cell_type": "markdown",
   "metadata": {},
   "source": [
    "## Evolução da dívida na tabela Price"
   ]
  },
  {
   "cell_type": "code",
   "execution_count": 5,
   "metadata": {},
   "outputs": [
    {
     "data": {
      "image/png": "[encoded data removed]",
      "text/plain": [
       "<matplotlib.figure.Figure at 0x7fc6506eda90>"
      ]
     },
     "metadata": {},
     "output_type": "display_data"
    }
   ],
   "source": [
    "plt.title('Tabela Price')\n",
    "plt.plot(price['Tempo'][1:], price['Dívida'][1:], label='Dívida')\n",
    "plt.xlabel('Meses')\n",
    "plt.tick_params(axis='both', direction='in', top='on', right='on', width=1)\n",
    "plt.legend()\n",
    "plt.show()"
   ]
  },
  {
   "cell_type": "markdown",
   "metadata": {},
   "source": [
    "## Evolução da prestação, amortização e juros na tabela Price"
   ]
  },
  {
   "cell_type": "code",
   "execution_count": 6,
   "metadata": {},
   "outputs": [
    {
     "data": {
      "image/png": "[encoded data removed]",
      "text/plain": [
       "<matplotlib.figure.Figure at 0x7fc62c6d47b8>"
      ]
     },
     "metadata": {},
     "output_type": "display_data"
    }
   ],
   "source": [
    "plt.title('Tabela Price')\n",
    "plt.plot(price['Tempo'][1:], price['Prestação'][1:], label='Prestação')\n",
    "plt.plot(price['Tempo'][1:], price['Amortização'][1:], label='Amortização')\n",
    "plt.plot(price['Tempo'][1:], price['Juros'][1:], label='Juros')\n",
    "plt.xlabel('Meses')\n",
    "plt.tick_params(axis='both', direction='in', top='on', right='on', width=1)\n",
    "plt.legend()\n",
    "plt.show()"
   ]
  },
  {
   "cell_type": "markdown",
   "metadata": {},
   "source": [
    "# Tabela SAC\n",
    "\n",
    "Sistema de Amortização Constante (SAC) é um método usado em amortização de empréstimo em que, diferente do sistema Price, onde a prestação é constante, no SAC, como o próprio nome diz, a amortização da dívida é constante.\n",
    "\n",
    "No SAC o valor da prestação varia, sendo maior no começo do período e tende ao valor da amortização à medida que o tempo passa.\n",
    "\n",
    "* Dívida: $D_k = \\frac{n-k}{n}\\$_0$\n",
    "\n",
    "* Amortização: $\\$_{amortização} = \\frac{\\$_0}{n}$\n",
    "\n",
    "* Juros: $\\$_{juros} = (Z_m-1)D_{k-1} = (Z_m - 1)(n+1-k)\\frac{\\$_0}{n}$\n",
    "\n",
    "* Prestação:   $x = [1+(Z_m-1)(n+1-k)]\\frac{\\$_0}{n}$"
   ]
  },
  {
   "cell_type": "markdown",
   "metadata": {},
   "source": [
    "## Calculando prestação, dívida, juros e amortização"
   ]
  },
  {
   "cell_type": "code",
   "execution_count": 7,
   "metadata": {
    "collapsed": true
   },
   "outputs": [],
   "source": [
    "# Array com o valor das amortizações, que deve ser constante\n",
    "amort = pv/n\n",
    "amortizacao = np.zeros(n+1)\n",
    "amortizacao = amortizacao + amort\n",
    "amortizacao[0] = 0\n",
    "\n",
    "# Arrays com o valor da dívida, juros e prestação\n",
    "divida = np.zeros(n+1)\n",
    "juros = np.zeros(n+1)\n",
    "X = np.zeros(n+1)\n",
    "for i in range(n):\n",
    "    k=i+1\n",
    "    divida[k] = pv*(n-k)/n\n",
    "    juros[k] = (Zm-1)*(n+1-k)*pv/n\n",
    "    X[k] = (1+(Zm-1)*(n+1-k))*pv/n\n",
    "divida[0] = pv"
   ]
  },
  {
   "cell_type": "markdown",
   "metadata": {},
   "source": [
    "## Montando a tabela SAC"
   ]
  },
  {
   "cell_type": "code",
   "execution_count": 8,
   "metadata": {},
   "outputs": [
    {
     "data": {
      "text/html": [
       "<div>\n",
       "<style scoped>\n",
       "    .dataframe tbody tr th:only-of-type {\n",
       "        vertical-align: middle;\n",
       "    }\n",
       "\n",
       "    .dataframe tbody tr th {\n",
       "        vertical-align: top;\n",
       "    }\n",
       "\n",
       "    .dataframe thead th {\n",
       "        text-align: right;\n",
       "    }\n",
       "</style>\n",
       "<table border=\"1\" class=\"dataframe\">\n",
       "  <thead>\n",
       "    <tr style=\"text-align: right;\">\n",
       "      <th></th>\n",
       "      <th>Tempo</th>\n",
       "      <th>Prestação</th>\n",
       "      <th>Juros</th>\n",
       "      <th>Amortização</th>\n",
       "      <th>Dívida</th>\n",
       "    </tr>\n",
       "  </thead>\n",
       "  <tbody>\n",
       "    <tr>\n",
       "      <th>0</th>\n",
       "      <td>0</td>\n",
       "      <td>0.00</td>\n",
       "      <td>0.00</td>\n",
       "      <td>0.00</td>\n",
       "      <td>500000.00</td>\n",
       "    </tr>\n",
       "    <tr>\n",
       "      <th>1</th>\n",
       "      <td>1</td>\n",
       "      <td>5375.96</td>\n",
       "      <td>3987.07</td>\n",
       "      <td>1388.89</td>\n",
       "      <td>498611.11</td>\n",
       "    </tr>\n",
       "    <tr>\n",
       "      <th>2</th>\n",
       "      <td>2</td>\n",
       "      <td>5364.88</td>\n",
       "      <td>3976.00</td>\n",
       "      <td>1388.89</td>\n",
       "      <td>497222.22</td>\n",
       "    </tr>\n",
       "    <tr>\n",
       "      <th>3</th>\n",
       "      <td>3</td>\n",
       "      <td>5353.81</td>\n",
       "      <td>3964.92</td>\n",
       "      <td>1388.89</td>\n",
       "      <td>495833.33</td>\n",
       "    </tr>\n",
       "    <tr>\n",
       "      <th>4</th>\n",
       "      <td>4</td>\n",
       "      <td>5342.73</td>\n",
       "      <td>3953.84</td>\n",
       "      <td>1388.89</td>\n",
       "      <td>494444.44</td>\n",
       "    </tr>\n",
       "  </tbody>\n",
       "</table>\n",
       "</div>"
      ],
      "text/plain": [
       "   Tempo  Prestação   Juros  Amortização    Dívida\n",
       "0      0       0.00    0.00         0.00 500000.00\n",
       "1      1    5375.96 3987.07      1388.89 498611.11\n",
       "2      2    5364.88 3976.00      1388.89 497222.22\n",
       "3      3    5353.81 3964.92      1388.89 495833.33\n",
       "4      4    5342.73 3953.84      1388.89 494444.44"
      ]
     },
     "execution_count": 8,
     "metadata": {},
     "output_type": "execute_result"
    }
   ],
   "source": [
    "# Tabela SAC\n",
    "sac = pd.DataFrame()\n",
    "sac['Tempo'] = N\n",
    "sac['Prestação'] = X\n",
    "sac['Juros'] = juros\n",
    "sac['Amortização'] = amortizacao\n",
    "sac['Dívida'] = divida\n",
    "sac.head()"
   ]
  },
  {
   "cell_type": "code",
   "execution_count": 9,
   "metadata": {},
   "outputs": [
    {
     "data": {
      "text/html": [
       "<div>\n",
       "<style scoped>\n",
       "    .dataframe tbody tr th:only-of-type {\n",
       "        vertical-align: middle;\n",
       "    }\n",
       "\n",
       "    .dataframe tbody tr th {\n",
       "        vertical-align: top;\n",
       "    }\n",
       "\n",
       "    .dataframe thead th {\n",
       "        text-align: right;\n",
       "    }\n",
       "</style>\n",
       "<table border=\"1\" class=\"dataframe\">\n",
       "  <thead>\n",
       "    <tr style=\"text-align: right;\">\n",
       "      <th></th>\n",
       "      <th>Tempo</th>\n",
       "      <th>Prestação</th>\n",
       "      <th>Juros</th>\n",
       "      <th>Amortização</th>\n",
       "      <th>Dívida</th>\n",
       "    </tr>\n",
       "  </thead>\n",
       "  <tbody>\n",
       "    <tr>\n",
       "      <th>356</th>\n",
       "      <td>356</td>\n",
       "      <td>1444.26</td>\n",
       "      <td>55.38</td>\n",
       "      <td>1388.89</td>\n",
       "      <td>5555.56</td>\n",
       "    </tr>\n",
       "    <tr>\n",
       "      <th>357</th>\n",
       "      <td>357</td>\n",
       "      <td>1433.19</td>\n",
       "      <td>44.30</td>\n",
       "      <td>1388.89</td>\n",
       "      <td>4166.67</td>\n",
       "    </tr>\n",
       "    <tr>\n",
       "      <th>358</th>\n",
       "      <td>358</td>\n",
       "      <td>1422.11</td>\n",
       "      <td>33.23</td>\n",
       "      <td>1388.89</td>\n",
       "      <td>2777.78</td>\n",
       "    </tr>\n",
       "    <tr>\n",
       "      <th>359</th>\n",
       "      <td>359</td>\n",
       "      <td>1411.04</td>\n",
       "      <td>22.15</td>\n",
       "      <td>1388.89</td>\n",
       "      <td>1388.89</td>\n",
       "    </tr>\n",
       "    <tr>\n",
       "      <th>360</th>\n",
       "      <td>360</td>\n",
       "      <td>1399.96</td>\n",
       "      <td>11.08</td>\n",
       "      <td>1388.89</td>\n",
       "      <td>0.00</td>\n",
       "    </tr>\n",
       "  </tbody>\n",
       "</table>\n",
       "</div>"
      ],
      "text/plain": [
       "     Tempo  Prestação  Juros  Amortização  Dívida\n",
       "356    356    1444.26  55.38      1388.89 5555.56\n",
       "357    357    1433.19  44.30      1388.89 4166.67\n",
       "358    358    1422.11  33.23      1388.89 2777.78\n",
       "359    359    1411.04  22.15      1388.89 1388.89\n",
       "360    360    1399.96  11.08      1388.89    0.00"
      ]
     },
     "execution_count": 9,
     "metadata": {},
     "output_type": "execute_result"
    }
   ],
   "source": [
    "sac.tail()"
   ]
  },
  {
   "cell_type": "markdown",
   "metadata": {},
   "source": [
    "## Evolução da dívida na tabela SAC"
   ]
  },
  {
   "cell_type": "code",
   "execution_count": 24,
   "metadata": {},
   "outputs": [
    {
     "data": {
      "image/png": "[encoded data removed]",
      "text/plain": [
       "<matplotlib.figure.Figure at 0x7fc62c62a978>"
      ]
     },
     "metadata": {},
     "output_type": "display_data"
    }
   ],
   "source": [
    "plt.title('Tabela SAC')\n",
    "plt.plot(sac['Tempo'][1:], sac['Dívida'][1:], label='Dívida')\n",
    "plt.xlabel('Meses')\n",
    "plt.tick_params(axis='both', direction='in', top='on', right='on', width=1)\n",
    "plt.legend()\n",
    "plt.show()"
   ]
  },
  {
   "cell_type": "markdown",
   "metadata": {},
   "source": [
    "## Evolução da prestação, amortização e juros na tabela SAC"
   ]
  },
  {
   "cell_type": "code",
   "execution_count": 25,
   "metadata": {},
   "outputs": [
    {
     "data": {
      "image/png": "[encoded data removed]",
      "text/plain": [
       "<matplotlib.figure.Figure at 0x7fc62c5b7390>"
      ]
     },
     "metadata": {},
     "output_type": "display_data"
    }
   ],
   "source": [
    "plt.title('Tabela SAC')\n",
    "plt.plot(sac['Tempo'][1:], sac['Prestação'][1:], label='Prestação')\n",
    "plt.plot(sac['Tempo'][1:], sac['Amortização'][1:], label='Amortização')\n",
    "plt.plot(sac['Tempo'][1:], sac['Juros'][1:], label='Juros')\n",
    "plt.xlabel('Meses')\n",
    "plt.tick_params(axis='both', direction='in', top='on', right='on', width=1)\n",
    "plt.legend()\n",
    "plt.show()"
   ]
  },
  {
   "cell_type": "markdown",
   "metadata": {},
   "source": [
    "# Comparando a evolução das dívidas nos sistemas Price e SAC"
   ]
  },
  {
   "cell_type": "code",
   "execution_count": 12,
   "metadata": {},
   "outputs": [
    {
     "data": {
      "image/png": "[encoded data removed]",
      "text/plain": [
       "<matplotlib.figure.Figure at 0x7fc62c5cc358>"
      ]
     },
     "metadata": {},
     "output_type": "display_data"
    }
   ],
   "source": [
    "plt.title('Dívida')\n",
    "plt.plot(price['Tempo'][1:], price['Dívida'][1:], label='Price')\n",
    "plt.plot(sac['Tempo'][1:], sac['Dívida'][1:], label='SAC')\n",
    "plt.xlabel('Meses')\n",
    "plt.tick_params(axis='both', direction='in', top='on', right='on', width=1)\n",
    "plt.legend()\n",
    "plt.show()"
   ]
  },
  {
   "cell_type": "markdown",
   "metadata": {},
   "source": [
    "Da figura acima pode ver que se demora mais a amortizar a dívida na tabela Price."
   ]
  },
  {
   "cell_type": "markdown",
   "metadata": {},
   "source": [
    "# Comparando a evolução das prestação nos sistemas Price e SAC"
   ]
  },
  {
   "cell_type": "code",
   "execution_count": 28,
   "metadata": {},
   "outputs": [
    {
     "data": {
      "image/png": "[encoded data removed]",
      "text/plain": [
       "<matplotlib.figure.Figure at 0x7fc62c2846a0>"
      ]
     },
     "metadata": {},
     "output_type": "display_data"
    }
   ],
   "source": [
    "plt.title('Juros')\n",
    "plt.plot(price['Tempo'][1:], price['Prestação'][1:], label='Price')\n",
    "plt.plot(sac['Tempo'][1:], sac['Prestação'][1:], label='SAC')\n",
    "plt.xlabel('Meses')\n",
    "plt.tick_params(axis='both', direction='in', top='on', right='on', width=1)\n",
    "plt.legend()\n",
    "plt.show()"
   ]
  },
  {
   "cell_type": "markdown",
   "metadata": {},
   "source": [
    "Da figura acima vemos que enquanto a prestação no sistema Price é constante, no sistema SAC ela decresce linearmente. No começo, em cerca de um terço do período total, a prestação na tabela SAC é maior que a da tabela Price. A partir desse momento, as relações se invertem e a prestação na tabela SAC fica menor que a da tabela Price."
   ]
  },
  {
   "cell_type": "markdown",
   "metadata": {},
   "source": [
    "# Total pago nos sistemas Price e SAC"
   ]
  },
  {
   "cell_type": "code",
   "execution_count": 13,
   "metadata": {},
   "outputs": [
    {
     "name": "stdout",
     "output_type": "stream",
     "text": [
      "Total pago na tabela SAC:   R$ 1219666\n",
      "Total pago na tabela Price: R$ 1522603\n"
     ]
    }
   ],
   "source": [
    "print(\"Total pago na tabela SAC:   R$ %.0f\" %(sum(sac['Prestação'])))\n",
    "print(\"Total pago na tabela Price: R$ %.0f\" %(sum(price['Prestação'])))"
   ]
  },
  {
   "cell_type": "markdown",
   "metadata": {},
   "source": [
    "*Obs: No sistema SAC paga-se menos no total. Isso se deve ao princípio de que o dinheiro no presente vale mais que no futuro. No sistema SAC paga-se parcelas maiores no início do fluxo de pagamento, por isso, menos juros incidem sobre a dívida restante, o que acarreta em um valor total pago menor para o sistema SAC.*"
   ]
  },
  {
   "cell_type": "markdown",
   "metadata": {},
   "source": [
    "# Valor Presente (Present Value)\n",
    "\n",
    "Imagine que alguém nos faça a seguinte proposta: \n",
    "\n",
    "*\"Me empresta R\\$ 1000 hoje que eu te pago daqui a um ano com R\\$ 1200\"*\n",
    "\n",
    "É um bom negócio? O que você acha?\n",
    "\n",
    "Nesse caso, uma medida para uma boa tomada de decisão é calcular o **valor presente** dos R\\$ 1200 que iremos receber daqui a um ano, ou seja, quanto valem hoje esses R\\$ 1200. Geralmente se o $VP$ for menor que R\\$ 1000, então o negóćio já é um mau negócio de cara. Caso $VP$ $>$ R\\$ 1000, então precisamos analisar o quanto $VP$ é maior que R\\$ 1000 para sabermos se o risco de emprestarmos dinheiro para essa pessoa está sendo bem pago com os juros cobrados.\n",
    "\n",
    "Antes dos cálculos, devemos pensar mais um pouco e descobrir uma *taxa livre de risco*, presente em toda economia com forte base monetária. No nosso caso, o governo brasileiro oferece essa taxa sobe o nome de taxa SELIC, que corresponde ao pagamento de juros ao se comprar títulos do governo, especialmente se for o título atrelado à taxa SELIC. Para nós, o que interessa é que se uma pessoa deseja pedir dinheiro emprestado a você, ela deve pagar uma taxa de juros maior que a SELIC, porque você tem mais riscos emprestando dinheiro para a pessoa do que para o governo (você empresta dinheiro pro governo quando compra títulos públicos). \n",
    "\n",
    "Atualmente, o valor da taxa SELIC está em 6.5% ao ano. Usando essa taxa, podemos calcular o $VP$ dos R\\$ 1200 que nosso amigo está oferecendo nos pagar caso emprestemos R\\$ 1000 pra ele hoje:\n",
    "\n",
    "$VP = \\frac{R\\$ 1200}{(1+0.065)} = R\\$  1126.76$,\n",
    "\n",
    "o valor de receber R\\$ 1200 daqui a um ano está, de acordo com uma taxa livre de risco (SELIC), R\\$ 1126.75. O seu amigo está te oferecendo o direito de receber R\\$ 1200 daqui a um ano por R\\$ 1000, o que parece ser um bom negócio. Se você aceitar fechar o negócio, então está aceitando que a diferença de R\\$ 1126.75 - R\\$ 1000 = R\\$ 126.76 deve cobrir o risco de se emprestar para o seu amigo e não para o governo. Dizemos que R\\$ 126.76 é o nosso prêmio pelo risco.\n",
    "\n",
    "De quanto foi a taxa de juros do prêmio pelo risco?\n",
    "\n",
    "$100 x \\frac{R\\$ 126.76}{R\\$ 1000} = 12.76 \\%$,\n",
    "\n",
    "logo, o prêmio pelo risco de emprestarmos dinheiro para o nosso amigo em termo de taxa de juros é de 12.76%.\n",
    "\n",
    "## Valor Presente de um fluxo de pagamentos constante\n",
    "\n",
    "Esse é o caso de uma pessoa que, por exemplo, faz o compra um smartphone ou TV em 10x pelo sistema Price, onde o valor da prestação é constante. O que a loja deseja saber é quanto vale um fluxo de pagamentos constante, que deverá ser recebido em n períodos no futuro, hoje?\n",
    "\n",
    "Se a pessoa está oferecendo pagar o valor $x$ a cada período, devemos então calcular o $VP$ descontando o valor do futuro pelo fator $\\frac{1}{1+R}$ correspondente a cada período ($R$ é uma taxa considerada livre de risco,  não precisa necessariamente ser a taxa SELIC, nesse caso da loja). Assim o $VP$ é dado por:\n",
    "\n",
    "$VP = \\frac{x}{(1+R)} + \\frac{x}{(1+R)^2} + ... + \\frac{x}{(1+R)^n} = \\frac{x}{Z} + \\frac{x}{Z^2} + ... + \\frac{x}{Z^n}$\n",
    "\n",
    "$VP = \\frac{x}{Z}\\left[1 + \\frac{1}{Z} + \\frac{1}{Z^2} + ...\n",
    "+ \\frac{1}{Z^{n-1}}\\right] = \\frac{Z(Z^n-1)}{Z^n(Z-1)}x$\n",
    "\n",
    "$VP = \\frac{Z(Z^n-1)}{Z^n(Z-1)}x$.\n",
    "\n",
    "## Valor Presente de um fluxo de pagamentos variável\n",
    "\n",
    "Este é o caso de uma pessoa que, por exemplo, financia a compra de uma casa ou um carro pelo sistema SAC, em que as prestações variam de acordo com o período. Lembre-se: no SAC, como o próprio nome diz, o que é constante é a amortização.\n",
    "\n",
    "Nesse caso, aproveitando as contas acima e sabendo agora que o fluxo de pagamento é variável, ou seja, para cada período t teremos um valor de parcela $x_t$, temos que o $VP$ pode ser facilmente calculado usando a seguinte fórmula:\n",
    "\n",
    "$VP = \\sum_t \\frac{x_t}{Z^t}$\n",
    "\n",
    "\n",
    "## Calculando os $VP$ para os fluxos de pagamentos Price e SAC"
   ]
  },
  {
   "cell_type": "code",
   "execution_count": 14,
   "metadata": {},
   "outputs": [
    {
     "name": "stdout",
     "output_type": "stream",
     "text": [
      "VP (Price): R$ 682293\n",
      "VP (SAC):   R$ 642252\n"
     ]
    }
   ],
   "source": [
    "Ra = 0.065  # Valor da taxa Selic em 07/03/2018\n",
    "Zm = (1+Ra)**(1/12)\n",
    "\n",
    "vp_price = price['Prestação'][1]*(Zm**(n)-1)/(Zm**(n)*(Zm-1))\n",
    "\n",
    "ZZ = [1/Zm**i for i in range(1,361)]\n",
    "vp_sac = sum(sac['Prestação'][1:]*ZZ)\n",
    "\n",
    "print('VP (Price): R$ %.0f\\nVP (SAC):   R$ %.0f'%(vp_price, vp_sac))"
   ]
  },
  {
   "cell_type": "markdown",
   "metadata": {},
   "source": [
    "O valor presente  para os dois fluxos de pagamento estão acima do que o banco está lhe oferecendo, que é R\\$ 500000. Se o banco usasse a taxa SELIC para fazer negócio com você, você receberia, usando como exemplo o sistema SAC, R\\$ 642252 ao invés de R$ 500000 pelo mesmo fluxo de pagamento.\n",
    "\n",
    "Em outras palavras, se você pudesse ir no governo pedir financiamento para a sua casa pelo mesmo fluxo de pagamentos, você receberia R\\$ 642252 ao invés de R\\$ 500000, que é o que o banco está lhe oferecendo."
   ]
  }
 ],
 "metadata": {
  "kernelspec": {
   "display_name": "Python 3",
   "language": "python",
   "name": "python3"
  },
  "language_info": {
   "codemirror_mode": {
    "name": "ipython",
    "version": 3
   },
   "file_extension": ".py",
   "mimetype": "text/x-python",
   "name": "python",
   "nbconvert_exporter": "python",
   "pygments_lexer": "ipython3",
   "version": "3.6.4"
  }
 },
 "nbformat": 4,
 "nbformat_minor": 2
}
